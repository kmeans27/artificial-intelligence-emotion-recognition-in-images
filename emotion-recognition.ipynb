{
 "cells": [
  {
   "cell_type": "code",
   "execution_count": null,
   "id": "90e093d7",
   "metadata": {},
   "outputs": [],
   "source": [
    "# importing all needed libraries"
   ]
  },
  {
   "cell_type": "code",
   "execution_count": 36,
   "id": "5b6947a7",
   "metadata": {},
   "outputs": [],
   "source": [
    "from deepface import DeepFace\n",
    "import cv2\n",
    "import matplotlib.pyplot as plt\n",
    "import seaborn as sns\n",
    "import pandas as pd"
   ]
  },
  {
   "cell_type": "code",
   "execution_count": null,
   "id": "27928901",
   "metadata": {},
   "outputs": [],
   "source": [
    "# read image using cv2 library"
   ]
  },
  {
   "cell_type": "code",
   "execution_count": 20,
   "id": "4841e599",
   "metadata": {},
   "outputs": [],
   "source": [
    "image = cv2.imread(\"images\\happy_lady.png\")\n",
    "window_name=\"image\"\n",
    "cv2.imshow(window_name, image)\n",
    "cv2.waitKey(0)\n",
    "cv2.destroyAllWindows()"
   ]
  },
  {
   "cell_type": "code",
   "execution_count": null,
   "id": "e5637272",
   "metadata": {},
   "outputs": [],
   "source": [
    "#here are some more images to test the application"
   ]
  },
  {
   "cell_type": "code",
   "execution_count": null,
   "id": "61bda8bd",
   "metadata": {},
   "outputs": [],
   "source": [
    "#image = cv2.imread(\"images/surprised_musk.png\")\n",
    "#image = cv2.imread(\"images/sad_tobey_maguire.jpeg\")\n",
    "#image = cv2.imread(\"images/happy_lady.png\")\n",
    "#image = cv2.imread(\"images/disgusted_trump.png\")\n",
    "#image = cv2.imread(\"images/angry_man.jpg\")\n",
    "#image = cv2.imread(\"images/surprised_man2.png\")\n",
    "#image = cv2.imread(\"images/disgusted_man.png\")\n",
    "#image = cv2.imread(\"images/disgusted_girl.jpg\")\n",
    "#image = cv2.imread(\"images/disgust-marked.jpg\")"
   ]
  },
  {
   "cell_type": "code",
   "execution_count": null,
   "id": "27ce567a",
   "metadata": {},
   "outputs": [],
   "source": [
    "# perform face detection and emotion recognition using DeepFace library"
   ]
  },
  {
   "cell_type": "code",
   "execution_count": 22,
   "id": "244d2d20",
   "metadata": {},
   "outputs": [
    {
     "name": "stdout",
     "output_type": "stream",
     "text": [
      "facial_expression_model_weights.h5 will be downloaded...\n"
     ]
    },
    {
     "name": "stderr",
     "output_type": "stream",
     "text": [
      "Downloading...\n",
      "From: https://github.com/serengil/deepface_models/releases/download/v1.0/facial_expression_model_weights.h5\n",
      "To: C:\\Users\\Work\\.deepface\\weights\\facial_expression_model_weights.h5\n",
      "100%|██████████| 5.98M/5.98M [00:01<00:00, 5.20MB/s]\n"
     ]
    },
    {
     "name": "stdout",
     "output_type": "stream",
     "text": [
      "1/1 [==============================] - 0s 147ms/step\n"
     ]
    }
   ],
   "source": [
    "face_analysis = DeepFace.analyze(image, actions= [\"emotion\"])"
   ]
  },
  {
   "cell_type": "code",
   "execution_count": 24,
   "id": "7d0a2642",
   "metadata": {},
   "outputs": [],
   "source": [
    "# print the dominant emotion"
   ]
  },
  {
   "cell_type": "code",
   "execution_count": 25,
   "id": "6753ce4c",
   "metadata": {},
   "outputs": [
    {
     "name": "stdout",
     "output_type": "stream",
     "text": [
      "happy\n"
     ]
    }
   ],
   "source": [
    "dominant_result = face_analysis[\"dominant_emotion\"]\n",
    "print(dominant_result)"
   ]
  },
  {
   "cell_type": "code",
   "execution_count": null,
   "id": "2a0f0943",
   "metadata": {},
   "outputs": [],
   "source": [
    "# print the result from the emotion recognition"
   ]
  },
  {
   "cell_type": "code",
   "execution_count": 27,
   "id": "9c8005ea",
   "metadata": {},
   "outputs": [
    {
     "name": "stdout",
     "output_type": "stream",
     "text": [
      "{'angry': 1.891146572674529e-07, 'disgust': 1.4817928785035295e-10, 'fear': 2.998519876840078e-07, 'happy': 98.78688454627991, 'sad': 5.762269097431272e-05, 'surprise': 6.962628162909823e-06, 'neutral': 1.213047094643116}\n"
     ]
    }
   ],
   "source": [
    "result = face_analysis[\"emotion\"]\n",
    "print(result)"
   ]
  },
  {
   "cell_type": "code",
   "execution_count": null,
   "id": "5d5069df",
   "metadata": {},
   "outputs": [],
   "source": [
    "#print emotion values as table for better accessibility"
   ]
  },
  {
   "cell_type": "code",
   "execution_count": 39,
   "id": "a3cd9e53",
   "metadata": {},
   "outputs": [
    {
     "data": {
      "text/html": [
       "<div>\n",
       "<style scoped>\n",
       "    .dataframe tbody tr th:only-of-type {\n",
       "        vertical-align: middle;\n",
       "    }\n",
       "\n",
       "    .dataframe tbody tr th {\n",
       "        vertical-align: top;\n",
       "    }\n",
       "\n",
       "    .dataframe thead th {\n",
       "        text-align: right;\n",
       "    }\n",
       "</style>\n",
       "<table border=\"1\" class=\"dataframe\">\n",
       "  <thead>\n",
       "    <tr style=\"text-align: right;\">\n",
       "      <th></th>\n",
       "      <th>angry</th>\n",
       "      <th>disgust</th>\n",
       "      <th>fear</th>\n",
       "      <th>happy</th>\n",
       "      <th>sad</th>\n",
       "      <th>surprise</th>\n",
       "      <th>neutral</th>\n",
       "    </tr>\n",
       "  </thead>\n",
       "  <tbody>\n",
       "    <tr>\n",
       "      <th>0</th>\n",
       "      <td>1.891147e-07</td>\n",
       "      <td>1.481793e-10</td>\n",
       "      <td>2.998520e-07</td>\n",
       "      <td>98.786885</td>\n",
       "      <td>0.000058</td>\n",
       "      <td>0.000007</td>\n",
       "      <td>1.213047</td>\n",
       "    </tr>\n",
       "  </tbody>\n",
       "</table>\n",
       "</div>"
      ],
      "text/plain": [
       "          angry       disgust          fear      happy       sad  surprise  \\\n",
       "0  1.891147e-07  1.481793e-10  2.998520e-07  98.786885  0.000058  0.000007   \n",
       "\n",
       "    neutral  \n",
       "0  1.213047  "
      ]
     },
     "execution_count": 39,
     "metadata": {},
     "output_type": "execute_result"
    }
   ],
   "source": [
    "df = pd.DataFrame(result, index=[0])\n",
    "df"
   ]
  },
  {
   "cell_type": "code",
   "execution_count": 28,
   "id": "af13e012",
   "metadata": {},
   "outputs": [],
   "source": [
    "# save the dictionary as two individual lists for visual representation"
   ]
  },
  {
   "cell_type": "code",
   "execution_count": 29,
   "id": "56ff496c",
   "metadata": {},
   "outputs": [],
   "source": [
    "emotions = list(result.keys())\n",
    "values = list(result.values())"
   ]
  },
  {
   "cell_type": "code",
   "execution_count": 30,
   "id": "1c8796b5",
   "metadata": {},
   "outputs": [],
   "source": [
    "# visualize the emotions and their values"
   ]
  },
  {
   "cell_type": "code",
   "execution_count": 31,
   "id": "24e3a609",
   "metadata": {},
   "outputs": [
    {
     "data": {
      "image/png": "[encoded data removed]",
      "text/plain": [
       "<Figure size 432x288 with 1 Axes>"
      ]
     },
     "metadata": {
      "needs_background": "light"
     },
     "output_type": "display_data"
    }
   ],
   "source": [
    "plt.bar(emotions, values)\n",
    "plt.show()"
   ]
  },
  {
   "cell_type": "code",
   "execution_count": null,
   "id": "55fa629f",
   "metadata": {},
   "outputs": [],
   "source": []
  }
 ],
 "metadata": {
  "kernelspec": {
   "display_name": "Python 3 (ipykernel)",
   "language": "python",
   "name": "python3"
  },
  "language_info": {
   "codemirror_mode": {
    "name": "ipython",
    "version": 3
   },
   "file_extension": ".py",
   "mimetype": "text/x-python",
   "name": "python",
   "nbconvert_exporter": "python",
   "pygments_lexer": "ipython3",
   "version": "3.9.12"
  }
 },
 "nbformat": 4,
 "nbformat_minor": 5
}
