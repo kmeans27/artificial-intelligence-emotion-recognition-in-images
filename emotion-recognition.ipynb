{
 "cells": [
  {
   "cell_type": "code",
   "execution_count": null,
   "id": "80d3d829",
   "metadata": {},
   "outputs": [],
   "source": [
    "# importing all needed libraries"
   ]
  },
  {
   "cell_type": "code",
   "execution_count": 21,
   "id": "e26d178b",
   "metadata": {},
   "outputs": [],
   "source": [
    "from deepface import DeepFace\n",
    "import cv2\n",
    "import matplotlib.pyplot as plt\n",
    "import seaborn as sns"
   ]
  },
  {
   "cell_type": "code",
   "execution_count": null,
   "id": "962d58e6",
   "metadata": {},
   "outputs": [],
   "source": [
    "# read image using cv2 library"
   ]
  },
  {
   "cell_type": "code",
   "execution_count": 20,
   "id": "d91e725e",
   "metadata": {},
   "outputs": [],
   "source": [
    "image = cv2.imread(\"images\\happy_lady.png\")\n",
    "window_name=\"image\"\n",
    "cv2.imshow(window_name, image)\n",
    "cv2.waitKey(0)\n",
    "cv2.destroyAllWindows()"
   ]
  },
  {
   "cell_type": "code",
   "execution_count": null,
   "id": "ef3d212b",
   "metadata": {},
   "outputs": [],
   "source": []
  },
  {
   "cell_type": "code",
   "execution_count": null,
   "id": "40afaa56",
   "metadata": {},
   "outputs": [],
   "source": [
    "# perform face detection and emotion recognition using DeepFace library"
   ]
  },
  {
   "cell_type": "code",
   "execution_count": 22,
   "id": "8ae56343",
   "metadata": {},
   "outputs": [
    {
     "name": "stdout",
     "output_type": "stream",
     "text": [
      "facial_expression_model_weights.h5 will be downloaded...\n"
     ]
    },
    {
     "name": "stderr",
     "output_type": "stream",
     "text": [
      "Downloading...\n",
      "From: https://github.com/serengil/deepface_models/releases/download/v1.0/facial_expression_model_weights.h5\n",
      "To: C:\\Users\\Work\\.deepface\\weights\\facial_expression_model_weights.h5\n",
      "100%|██████████| 5.98M/5.98M [00:01<00:00, 5.20MB/s]\n"
     ]
    },
    {
     "name": "stdout",
     "output_type": "stream",
     "text": [
      "1/1 [==============================] - 0s 147ms/step\n"
     ]
    }
   ],
   "source": [
    "face_analysis = DeepFace.analyze(image, actions= [\"emotion\"])"
   ]
  },
  {
   "cell_type": "code",
   "execution_count": 24,
   "id": "bf724200",
   "metadata": {},
   "outputs": [],
   "source": [
    "# print the dominant emotion"
   ]
  },
  {
   "cell_type": "code",
   "execution_count": 25,
   "id": "f8d0c435",
   "metadata": {},
   "outputs": [
    {
     "name": "stdout",
     "output_type": "stream",
     "text": [
      "happy\n"
     ]
    }
   ],
   "source": [
    "dominant_result = face_analysis[\"dominant_emotion\"]\n",
    "print(dominant_result)"
   ]
  },
  {
   "cell_type": "code",
   "execution_count": null,
   "id": "bcbd4853",
   "metadata": {},
   "outputs": [],
   "source": [
    "# print the result from the emotion recognition"
   ]
  },
  {
   "cell_type": "code",
   "execution_count": 27,
   "id": "045ffca8",
   "metadata": {},
   "outputs": [
    {
     "name": "stdout",
     "output_type": "stream",
     "text": [
      "{'angry': 1.891146572674529e-07, 'disgust': 1.4817928785035295e-10, 'fear': 2.998519876840078e-07, 'happy': 98.78688454627991, 'sad': 5.762269097431272e-05, 'surprise': 6.962628162909823e-06, 'neutral': 1.213047094643116}\n"
     ]
    }
   ],
   "source": [
    "result = face_analysis[\"emotion\"]\n",
    "print(result)"
   ]
  },
  {
   "cell_type": "code",
   "execution_count": 28,
   "id": "bb1f6e6d",
   "metadata": {},
   "outputs": [],
   "source": [
    "# save the dictionary as two individual lists for visual representation"
   ]
  },
  {
   "cell_type": "code",
   "execution_count": 29,
   "id": "f0169b83",
   "metadata": {},
   "outputs": [],
   "source": [
    "emotions = list(result.keys())\n",
    "values = list(result.values())"
   ]
  },
  {
   "cell_type": "code",
   "execution_count": 30,
   "id": "22596426",
   "metadata": {},
   "outputs": [],
   "source": [
    "# visualize the emotions and their values"
   ]
  },
  {
   "cell_type": "code",
   "execution_count": 31,
   "id": "23c0b0ce",
   "metadata": {},
   "outputs": [
    {
     "data": {
      "image/png": "[encoded data removed]",
      "text/plain": [
       "<Figure size 432x288 with 1 Axes>"
      ]
     },
     "metadata": {
      "needs_background": "light"
     },
     "output_type": "display_data"
    }
   ],
   "source": [
    "plt.bar(emotions, values)\n",
    "plt.show()"
   ]
  },
  {
   "cell_type": "code",
   "execution_count": null,
   "id": "e621426f",
   "metadata": {},
   "outputs": [],
   "source": []
  }
 ],
 "metadata": {
  "kernelspec": {
   "display_name": "Python 3 (ipykernel)",
   "language": "python",
   "name": "python3"
  },
  "language_info": {
   "codemirror_mode": {
    "name": "ipython",
    "version": 3
   },
   "file_extension": ".py",
   "mimetype": "text/x-python",
   "name": "python",
   "nbconvert_exporter": "python",
   "pygments_lexer": "ipython3",
   "version": "3.9.12"
  }
 },
 "nbformat": 4,
 "nbformat_minor": 5
}
